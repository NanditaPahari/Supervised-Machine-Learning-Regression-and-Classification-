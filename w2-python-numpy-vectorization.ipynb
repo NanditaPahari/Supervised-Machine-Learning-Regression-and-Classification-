{
 "cells": [
  {
   "cell_type": "code",
   "execution_count": 1,
   "id": "3c2d5d1b",
   "metadata": {
    "_cell_guid": "b1076dfc-b9ad-4769-8c92-a6c4dae69d19",
    "_uuid": "8f2839f25d086af736a60e9eeb907d3b93b6e0e5",
    "execution": {
     "iopub.execute_input": "2024-06-28T07:24:02.332999Z",
     "iopub.status.busy": "2024-06-28T07:24:02.332489Z",
     "iopub.status.idle": "2024-06-28T07:24:02.343822Z",
     "shell.execute_reply": "2024-06-28T07:24:02.342814Z"
    },
    "papermill": {
     "duration": 0.021192,
     "end_time": "2024-06-28T07:24:02.346109",
     "exception": false,
     "start_time": "2024-06-28T07:24:02.324917",
     "status": "completed"
    },
    "tags": []
   },
   "outputs": [],
   "source": [
    "import numpy as np\n",
    "import time\n"
   ]
  },
  {
   "cell_type": "code",
   "execution_count": 2,
   "id": "ab839f94",
   "metadata": {
    "execution": {
     "iopub.execute_input": "2024-06-28T07:24:02.358595Z",
     "iopub.status.busy": "2024-06-28T07:24:02.358212Z",
     "iopub.status.idle": "2024-06-28T07:24:02.367626Z",
     "shell.execute_reply": "2024-06-28T07:24:02.366419Z"
    },
    "papermill": {
     "duration": 0.018282,
     "end_time": "2024-06-28T07:24:02.370072",
     "exception": false,
     "start_time": "2024-06-28T07:24:02.351790",
     "status": "completed"
    },
    "tags": []
   },
   "outputs": [
    {
     "name": "stdout",
     "output_type": "stream",
     "text": [
      "np.zeros(4) :   a = [0. 0. 0. 0.], a shape = (4,), a data type = float64\n",
      "np.zeros(4,) :  a = [0. 0. 0. 0.], a shape = (4,), a data type = float64\n",
      "np.random.random_sample(4): a = [0.88645372 0.24796087 0.82627961 0.29974332], a shape = (4,), a data type = float64\n"
     ]
    }
   ],
   "source": [
    "# NumPy routines which allocate memory and fill arrays with value\n",
    "a = np.zeros(4);                print(f\"np.zeros(4) :   a = {a}, a shape = {a.shape}, a data type = {a.dtype}\")\n",
    "a = np.zeros((4,));             print(f\"np.zeros(4,) :  a = {a}, a shape = {a.shape}, a data type = {a.dtype}\")\n",
    "a = np.random.random_sample(4); print(f\"np.random.random_sample(4): a = {a}, a shape = {a.shape}, a data type = {a.dtype}\")"
   ]
  },
  {
   "cell_type": "code",
   "execution_count": 3,
   "id": "7eaf7798",
   "metadata": {
    "execution": {
     "iopub.execute_input": "2024-06-28T07:24:02.382743Z",
     "iopub.status.busy": "2024-06-28T07:24:02.382310Z",
     "iopub.status.idle": "2024-06-28T07:24:02.388901Z",
     "shell.execute_reply": "2024-06-28T07:24:02.387823Z"
    },
    "papermill": {
     "duration": 0.015516,
     "end_time": "2024-06-28T07:24:02.391245",
     "exception": false,
     "start_time": "2024-06-28T07:24:02.375729",
     "status": "completed"
    },
    "tags": []
   },
   "outputs": [
    {
     "name": "stdout",
     "output_type": "stream",
     "text": [
      "np.arange(4.):     a = [0. 1. 2. 3.], a shape = (4,), a data type = float64\n",
      "np.random.rand(4): a = [0.06793245 0.05876462 0.20845839 0.089518  ], a shape = (4,), a data type = float64\n"
     ]
    }
   ],
   "source": [
    "# NumPy routines which allocate memory and fill arrays with value but do not accept shape as input argument\n",
    "a = np.arange(4.);              print(f\"np.arange(4.):     a = {a}, a shape = {a.shape}, a data type = {a.dtype}\")\n",
    "a = np.random.rand(4);          print(f\"np.random.rand(4): a = {a}, a shape = {a.shape}, a data type = {a.dtype}\")"
   ]
  },
  {
   "cell_type": "code",
   "execution_count": 4,
   "id": "76023eab",
   "metadata": {
    "execution": {
     "iopub.execute_input": "2024-06-28T07:24:02.404141Z",
     "iopub.status.busy": "2024-06-28T07:24:02.403719Z",
     "iopub.status.idle": "2024-06-28T07:24:02.410897Z",
     "shell.execute_reply": "2024-06-28T07:24:02.409733Z"
    },
    "papermill": {
     "duration": 0.016705,
     "end_time": "2024-06-28T07:24:02.413471",
     "exception": false,
     "start_time": "2024-06-28T07:24:02.396766",
     "status": "completed"
    },
    "tags": []
   },
   "outputs": [
    {
     "name": "stdout",
     "output_type": "stream",
     "text": [
      "np.array([5,4,3,2]):  a = [5 4 3 2],     a shape = (4,), a data type = int64\n",
      "np.array([5.,4,3,2]): a = [5. 4. 3. 2.], a shape = (4,), a data type = float64\n"
     ]
    }
   ],
   "source": [
    "# NumPy routines which allocate memory and fill with user specified values\n",
    "a = np.array([5,4,3,2]);  print(f\"np.array([5,4,3,2]):  a = {a},     a shape = {a.shape}, a data type = {a.dtype}\")\n",
    "a = np.array([5.,4,3,2]); print(f\"np.array([5.,4,3,2]): a = {a}, a shape = {a.shape}, a data type = {a.dtype}\")"
   ]
  },
  {
   "cell_type": "code",
   "execution_count": 5,
   "id": "6bc0853d",
   "metadata": {
    "execution": {
     "iopub.execute_input": "2024-06-28T07:24:02.427414Z",
     "iopub.status.busy": "2024-06-28T07:24:02.427038Z",
     "iopub.status.idle": "2024-06-28T07:24:02.434353Z",
     "shell.execute_reply": "2024-06-28T07:24:02.433186Z"
    },
    "papermill": {
     "duration": 0.017573,
     "end_time": "2024-06-28T07:24:02.437475",
     "exception": false,
     "start_time": "2024-06-28T07:24:02.419902",
     "status": "completed"
    },
    "tags": []
   },
   "outputs": [
    {
     "name": "stdout",
     "output_type": "stream",
     "text": [
      "[0 1 2 3 4 5 6 7 8 9]\n",
      "a[2].shape: () a[2]  = 2, Accessing an element returns a scalar\n",
      "a[-1] = 9\n",
      "The error message you'll see is:\n",
      "index 10 is out of bounds for axis 0 with size 10\n"
     ]
    }
   ],
   "source": [
    "#vector indexing operations on 1-D vectors\n",
    "a = np.arange(10)\n",
    "print(a)\n",
    "\n",
    "#access an element\n",
    "print(f\"a[2].shape: {a[2].shape} a[2]  = {a[2]}, Accessing an element returns a scalar\")\n",
    "\n",
    "# access the last element, negative indexes count from the end\n",
    "print(f\"a[-1] = {a[-1]}\")\n",
    "\n",
    "#indexs must be within the range of the vector or they will produce and error\n",
    "try:\n",
    "    c = a[10]\n",
    "except Exception as e:\n",
    "    print(\"The error message you'll see is:\")\n",
    "    print(e)"
   ]
  },
  {
   "cell_type": "code",
   "execution_count": 6,
   "id": "6a760d65",
   "metadata": {
    "execution": {
     "iopub.execute_input": "2024-06-28T07:24:02.454010Z",
     "iopub.status.busy": "2024-06-28T07:24:02.453612Z",
     "iopub.status.idle": "2024-06-28T07:24:02.461369Z",
     "shell.execute_reply": "2024-06-28T07:24:02.460122Z"
    },
    "papermill": {
     "duration": 0.018077,
     "end_time": "2024-06-28T07:24:02.463834",
     "exception": false,
     "start_time": "2024-06-28T07:24:02.445757",
     "status": "completed"
    },
    "tags": []
   },
   "outputs": [
    {
     "name": "stdout",
     "output_type": "stream",
     "text": [
      "[0 1 2 3 4 5 6 7 8 9]\n",
      "[2 3 4 5 6]\n",
      "[2 4 6]\n",
      "[3 4 5 6 7 8 9]\n",
      "[0 1 2]\n",
      "[0 1 2 3 4 5 6 7 8 9]\n"
     ]
    }
   ],
   "source": [
    "a = np.arange(10)\n",
    "print(a)\n",
    "c = a[2:7:1];\n",
    "print(c)\n",
    "c = a[2:7:2];\n",
    "print(c)\n",
    "c = a[3:];\n",
    "print(c)\n",
    "c = a[:3];\n",
    "print(c)\n",
    "c = a[:]\n",
    "print(c)\n",
    "\n",
    "\n"
   ]
  },
  {
   "cell_type": "code",
   "execution_count": 7,
   "id": "93b63f2b",
   "metadata": {
    "execution": {
     "iopub.execute_input": "2024-06-28T07:24:02.478034Z",
     "iopub.status.busy": "2024-06-28T07:24:02.477636Z",
     "iopub.status.idle": "2024-06-28T07:24:02.487264Z",
     "shell.execute_reply": "2024-06-28T07:24:02.486104Z"
    },
    "papermill": {
     "duration": 0.020167,
     "end_time": "2024-06-28T07:24:02.490517",
     "exception": false,
     "start_time": "2024-06-28T07:24:02.470350",
     "status": "completed"
    },
    "tags": []
   },
   "outputs": [
    {
     "name": "stdout",
     "output_type": "stream",
     "text": [
      "a             : [1 2 3 4]\n",
      "b = -a        : [-1 -2 -3 -4]\n",
      "b = np.sum(a) : 10\n",
      "b = np.mean(a): 2.5\n",
      "b = a**2      : [ 1  4  9 16]\n"
     ]
    }
   ],
   "source": [
    "a = np.array([1,2,3,4])\n",
    "print(f\"a             : {a}\")\n",
    "# negate elements of a\n",
    "b = -a \n",
    "print(f\"b = -a        : {b}\")\n",
    "\n",
    "# sum all elements of a, returns a scalar\n",
    "b = np.sum(a) \n",
    "print(f\"b = np.sum(a) : {b}\")\n",
    "\n",
    "b = np.mean(a)\n",
    "print(f\"b = np.mean(a): {b}\")\n",
    "\n",
    "b = a**2\n",
    "print(f\"b = a**2      : {b}\")"
   ]
  },
  {
   "cell_type": "code",
   "execution_count": 8,
   "id": "5b7cb2b6",
   "metadata": {
    "execution": {
     "iopub.execute_input": "2024-06-28T07:24:02.504264Z",
     "iopub.status.busy": "2024-06-28T07:24:02.503368Z",
     "iopub.status.idle": "2024-06-28T07:24:02.509446Z",
     "shell.execute_reply": "2024-06-28T07:24:02.508502Z"
    },
    "papermill": {
     "duration": 0.015277,
     "end_time": "2024-06-28T07:24:02.511626",
     "exception": false,
     "start_time": "2024-06-28T07:24:02.496349",
     "status": "completed"
    },
    "tags": []
   },
   "outputs": [
    {
     "name": "stdout",
     "output_type": "stream",
     "text": [
      "Binary operators work element wise: [0 0 6 8]\n"
     ]
    }
   ],
   "source": [
    "a = np.array([ 1, 2, 3, 4])\n",
    "b = np.array([-1,-2, 3, 4])\n",
    "print(f\"Binary operators work element wise: {a + b}\")"
   ]
  },
  {
   "cell_type": "code",
   "execution_count": 9,
   "id": "f649932f",
   "metadata": {
    "execution": {
     "iopub.execute_input": "2024-06-28T07:24:02.525565Z",
     "iopub.status.busy": "2024-06-28T07:24:02.524655Z",
     "iopub.status.idle": "2024-06-28T07:24:02.530568Z",
     "shell.execute_reply": "2024-06-28T07:24:02.529390Z"
    },
    "papermill": {
     "duration": 0.015326,
     "end_time": "2024-06-28T07:24:02.532882",
     "exception": false,
     "start_time": "2024-06-28T07:24:02.517556",
     "status": "completed"
    },
    "tags": []
   },
   "outputs": [
    {
     "name": "stdout",
     "output_type": "stream",
     "text": [
      "The error message you'll see is:\n",
      "operands could not be broadcast together with shapes (4,) (2,) \n"
     ]
    }
   ],
   "source": [
    "#try a mismatched vector operation\n",
    "c = np.array([1, 2])\n",
    "try:\n",
    "    d = a + c\n",
    "except Exception as e:\n",
    "    print(\"The error message you'll see is:\")\n",
    "    print(e)"
   ]
  },
  {
   "cell_type": "code",
   "execution_count": 10,
   "id": "8185c5a5",
   "metadata": {
    "execution": {
     "iopub.execute_input": "2024-06-28T07:24:02.546729Z",
     "iopub.status.busy": "2024-06-28T07:24:02.546343Z",
     "iopub.status.idle": "2024-06-28T07:24:02.552386Z",
     "shell.execute_reply": "2024-06-28T07:24:02.551229Z"
    },
    "papermill": {
     "duration": 0.016493,
     "end_time": "2024-06-28T07:24:02.555597",
     "exception": false,
     "start_time": "2024-06-28T07:24:02.539104",
     "status": "completed"
    },
    "tags": []
   },
   "outputs": [
    {
     "name": "stdout",
     "output_type": "stream",
     "text": [
      "b = 5 * a : [ 5 10 15 20]\n"
     ]
    }
   ],
   "source": [
    "a = np.array([1, 2, 3, 4])\n",
    "\n",
    "# multiply a by a scalar\n",
    "b = 5 * a \n",
    "print(f\"b = 5 * a : {b}\")"
   ]
  },
  {
   "cell_type": "code",
   "execution_count": 11,
   "id": "4d1e84f6",
   "metadata": {
    "execution": {
     "iopub.execute_input": "2024-06-28T07:24:02.569191Z",
     "iopub.status.busy": "2024-06-28T07:24:02.568829Z",
     "iopub.status.idle": "2024-06-28T07:24:02.574428Z",
     "shell.execute_reply": "2024-06-28T07:24:02.573346Z"
    },
    "papermill": {
     "duration": 0.015258,
     "end_time": "2024-06-28T07:24:02.576831",
     "exception": false,
     "start_time": "2024-06-28T07:24:02.561573",
     "status": "completed"
    },
    "tags": []
   },
   "outputs": [],
   "source": [
    "def my_dot(a, b): \n",
    "    \n",
    "    x=0\n",
    "    for i in range(a.shape[0]):\n",
    "        x = x + a[i] * b[i]\n",
    "    return x"
   ]
  },
  {
   "cell_type": "code",
   "execution_count": 12,
   "id": "7322011c",
   "metadata": {
    "execution": {
     "iopub.execute_input": "2024-06-28T07:24:02.590704Z",
     "iopub.status.busy": "2024-06-28T07:24:02.590342Z",
     "iopub.status.idle": "2024-06-28T07:24:02.596566Z",
     "shell.execute_reply": "2024-06-28T07:24:02.595495Z"
    },
    "papermill": {
     "duration": 0.015714,
     "end_time": "2024-06-28T07:24:02.598696",
     "exception": false,
     "start_time": "2024-06-28T07:24:02.582982",
     "status": "completed"
    },
    "tags": []
   },
   "outputs": [
    {
     "name": "stdout",
     "output_type": "stream",
     "text": [
      "my_dot(a, b) = 24\n"
     ]
    }
   ],
   "source": [
    "# test 1-D\n",
    "a = np.array([1, 2, 3, 4])\n",
    "b = np.array([-1, 4, 3, 2])\n",
    "print(f\"my_dot(a, b) = {my_dot(a, b)}\")"
   ]
  },
  {
   "cell_type": "code",
   "execution_count": 13,
   "id": "af7eaebd",
   "metadata": {
    "execution": {
     "iopub.execute_input": "2024-06-28T07:24:02.612747Z",
     "iopub.status.busy": "2024-06-28T07:24:02.612028Z",
     "iopub.status.idle": "2024-06-28T07:24:02.618630Z",
     "shell.execute_reply": "2024-06-28T07:24:02.617564Z"
    },
    "papermill": {
     "duration": 0.016196,
     "end_time": "2024-06-28T07:24:02.620964",
     "exception": false,
     "start_time": "2024-06-28T07:24:02.604768",
     "status": "completed"
    },
    "tags": []
   },
   "outputs": [
    {
     "name": "stdout",
     "output_type": "stream",
     "text": [
      "NumPy 1-D np.dot(a, b) = 24, np.dot(a, b).shape = () \n",
      "NumPy 1-D np.dot(b, a) = 24, np.dot(a, b).shape = () \n"
     ]
    }
   ],
   "source": [
    "# test 1-D\n",
    "a = np.array([1, 2, 3, 4])\n",
    "b = np.array([-1, 4, 3, 2])\n",
    "c = np.dot(a, b)\n",
    "print(f\"NumPy 1-D np.dot(a, b) = {c}, np.dot(a, b).shape = {c.shape} \") \n",
    "c = np.dot(b, a)\n",
    "print(f\"NumPy 1-D np.dot(b, a) = {c}, np.dot(a, b).shape = {c.shape} \")"
   ]
  },
  {
   "cell_type": "code",
   "execution_count": 14,
   "id": "4d6e1483",
   "metadata": {
    "execution": {
     "iopub.execute_input": "2024-06-28T07:24:02.634844Z",
     "iopub.status.busy": "2024-06-28T07:24:02.634459Z",
     "iopub.status.idle": "2024-06-28T07:24:06.417593Z",
     "shell.execute_reply": "2024-06-28T07:24:06.416494Z"
    },
    "papermill": {
     "duration": 3.792875,
     "end_time": "2024-06-28T07:24:06.419940",
     "exception": false,
     "start_time": "2024-06-28T07:24:02.627065",
     "status": "completed"
    },
    "tags": []
   },
   "outputs": [
    {
     "name": "stdout",
     "output_type": "stream",
     "text": [
      "np.dot(a, b) =  2501072.5817\n",
      "Vectorized version duration: 6.6023 ms \n",
      "my_dot(a, b) =  2501072.5817\n",
      "loop version duration: 3555.6312 ms \n"
     ]
    }
   ],
   "source": [
    "np.random.seed(1)\n",
    "a = np.random.rand(10000000)  # very large arrays\n",
    "b = np.random.rand(10000000)\n",
    "\n",
    "tic = time.time()  # capture start time\n",
    "c = np.dot(a, b)\n",
    "toc = time.time()  # capture end time\n",
    "\n",
    "print(f\"np.dot(a, b) =  {c:.4f}\")\n",
    "print(f\"Vectorized version duration: {1000*(toc-tic):.4f} ms \")\n",
    "\n",
    "tic = time.time()  # capture start time\n",
    "c = my_dot(a,b)\n",
    "toc = time.time()  # capture end time\n",
    "\n",
    "print(f\"my_dot(a, b) =  {c:.4f}\")\n",
    "print(f\"loop version duration: {1000*(toc-tic):.4f} ms \")\n",
    "\n",
    "del(a);del(b)  #remove these big arrays from memory"
   ]
  },
  {
   "cell_type": "code",
   "execution_count": 15,
   "id": "87f1073b",
   "metadata": {
    "execution": {
     "iopub.execute_input": "2024-06-28T07:24:06.434058Z",
     "iopub.status.busy": "2024-06-28T07:24:06.433642Z",
     "iopub.status.idle": "2024-06-28T07:24:06.440277Z",
     "shell.execute_reply": "2024-06-28T07:24:06.438968Z"
    },
    "papermill": {
     "duration": 0.016171,
     "end_time": "2024-06-28T07:24:06.442417",
     "exception": false,
     "start_time": "2024-06-28T07:24:06.426246",
     "status": "completed"
    },
    "tags": []
   },
   "outputs": [
    {
     "name": "stdout",
     "output_type": "stream",
     "text": [
      "X[1] has shape (1,)\n",
      "w has shape (1,)\n",
      "c has shape ()\n"
     ]
    }
   ],
   "source": [
    "\n",
    "X = np.array([[1],[2],[3],[4]])\n",
    "w = np.array([2])\n",
    "c = np.dot(X[1], w)\n",
    "\n",
    "print(f\"X[1] has shape {X[1].shape}\")\n",
    "print(f\"w has shape {w.shape}\")\n",
    "print(f\"c has shape {c.shape}\")"
   ]
  },
  {
   "cell_type": "code",
   "execution_count": 16,
   "id": "a168cce6",
   "metadata": {
    "execution": {
     "iopub.execute_input": "2024-06-28T07:24:06.456783Z",
     "iopub.status.busy": "2024-06-28T07:24:06.456375Z",
     "iopub.status.idle": "2024-06-28T07:24:06.463571Z",
     "shell.execute_reply": "2024-06-28T07:24:06.462522Z"
    },
    "papermill": {
     "duration": 0.017374,
     "end_time": "2024-06-28T07:24:06.466164",
     "exception": false,
     "start_time": "2024-06-28T07:24:06.448790",
     "status": "completed"
    },
    "tags": []
   },
   "outputs": [
    {
     "name": "stdout",
     "output_type": "stream",
     "text": [
      "a shape = (1, 5), a = [[0. 0. 0. 0. 0.]]\n",
      "a shape = (2, 1), a = [[0.]\n",
      " [0.]]\n",
      "a shape = (1, 1), a = [[0.44236513]]\n"
     ]
    }
   ],
   "source": [
    "a = np.zeros((1, 5))                                       \n",
    "print(f\"a shape = {a.shape}, a = {a}\")                     \n",
    "\n",
    "a = np.zeros((2, 1))                                                                   \n",
    "print(f\"a shape = {a.shape}, a = {a}\") \n",
    "\n",
    "a = np.random.random_sample((1, 1))  \n",
    "print(f\"a shape = {a.shape}, a = {a}\") "
   ]
  },
  {
   "cell_type": "code",
   "execution_count": 17,
   "id": "44b1a753",
   "metadata": {
    "execution": {
     "iopub.execute_input": "2024-06-28T07:24:06.481099Z",
     "iopub.status.busy": "2024-06-28T07:24:06.480712Z",
     "iopub.status.idle": "2024-06-28T07:24:06.488265Z",
     "shell.execute_reply": "2024-06-28T07:24:06.486966Z"
    },
    "papermill": {
     "duration": 0.018018,
     "end_time": "2024-06-28T07:24:06.490592",
     "exception": false,
     "start_time": "2024-06-28T07:24:06.472574",
     "status": "completed"
    },
    "tags": []
   },
   "outputs": [
    {
     "name": "stdout",
     "output_type": "stream",
     "text": [
      " a shape = (3, 1), np.array: a = [[5]\n",
      " [4]\n",
      " [3]]\n",
      " a shape = (3, 1), np.array: a = [[5]\n",
      " [4]\n",
      " [3]]\n"
     ]
    }
   ],
   "source": [
    "# NumPy routines which allocate memory and fill with user specified values\n",
    "a = np.array([[5], [4], [3]]);   print(f\" a shape = {a.shape}, np.array: a = {a}\")\n",
    "a = np.array([[5],   # One can also\n",
    "              [4],   # separate values\n",
    "              [3]]); #into separate rows\n",
    "print(f\" a shape = {a.shape}, np.array: a = {a}\")"
   ]
  },
  {
   "cell_type": "code",
   "execution_count": 18,
   "id": "62ab83b6",
   "metadata": {
    "execution": {
     "iopub.execute_input": "2024-06-28T07:24:06.505139Z",
     "iopub.status.busy": "2024-06-28T07:24:06.504777Z",
     "iopub.status.idle": "2024-06-28T07:24:06.511524Z",
     "shell.execute_reply": "2024-06-28T07:24:06.510510Z"
    },
    "papermill": {
     "duration": 0.016746,
     "end_time": "2024-06-28T07:24:06.513893",
     "exception": false,
     "start_time": "2024-06-28T07:24:06.497147",
     "status": "completed"
    },
    "tags": []
   },
   "outputs": [
    {
     "name": "stdout",
     "output_type": "stream",
     "text": [
      "a.shape: (3, 2), \n",
      "a= [[0 1]\n",
      " [2 3]\n",
      " [4 5]]\n",
      "\n",
      "a[2,0].shape:   (), a[2,0] = 4,     type(a[2,0]) = <class 'numpy.int64'> Accessing an element returns a scalar\n",
      "\n",
      "a[2].shape:   (2,), a[2]   = [4 5], type(a[2])   = <class 'numpy.ndarray'>\n"
     ]
    }
   ],
   "source": [
    "#vector indexing operations on matrices\n",
    "a = np.arange(6).reshape(-1, 2)   #reshape is a convenient way to create matrices\n",
    "print(f\"a.shape: {a.shape}, \\na= {a}\")\n",
    "\n",
    "#access an element\n",
    "print(f\"\\na[2,0].shape:   {a[2, 0].shape}, a[2,0] = {a[2, 0]},     type(a[2,0]) = {type(a[2, 0])} Accessing an element returns a scalar\\n\")\n",
    "\n",
    "#access a row\n",
    "print(f\"a[2].shape:   {a[2].shape}, a[2]   = {a[2]}, type(a[2])   = {type(a[2])}\")"
   ]
  },
  {
   "cell_type": "code",
   "execution_count": 19,
   "id": "fb3796f3",
   "metadata": {
    "execution": {
     "iopub.execute_input": "2024-06-28T07:24:06.528863Z",
     "iopub.status.busy": "2024-06-28T07:24:06.528356Z",
     "iopub.status.idle": "2024-06-28T07:24:06.538438Z",
     "shell.execute_reply": "2024-06-28T07:24:06.537249Z"
    },
    "papermill": {
     "duration": 0.020196,
     "end_time": "2024-06-28T07:24:06.540720",
     "exception": false,
     "start_time": "2024-06-28T07:24:06.520524",
     "status": "completed"
    },
    "tags": []
   },
   "outputs": [
    {
     "name": "stdout",
     "output_type": "stream",
     "text": [
      "a = \n",
      "[[ 0  1  2  3  4  5  6  7  8  9]\n",
      " [10 11 12 13 14 15 16 17 18 19]]\n",
      "a[0, 2:7:1] =  [2 3 4 5 6] ,  a[0, 2:7:1].shape = (5,) a 1-D array\n",
      "a[:, 2:7:1] = \n",
      " [[ 2  3  4  5  6]\n",
      " [12 13 14 15 16]] ,  a[:, 2:7:1].shape = (2, 5) a 2-D array\n",
      "a[:,:] = \n",
      " [[ 0  1  2  3  4  5  6  7  8  9]\n",
      " [10 11 12 13 14 15 16 17 18 19]] ,  a[:,:].shape = (2, 10)\n",
      "a[1,:] =  [10 11 12 13 14 15 16 17 18 19] ,  a[1,:].shape = (10,) a 1-D array\n",
      "a[1]   =  [10 11 12 13 14 15 16 17 18 19] ,  a[1].shape   = (10,) a 1-D array\n"
     ]
    }
   ],
   "source": [
    "#vector 2-D slicing operations\n",
    "a = np.arange(20).reshape(-1, 10)\n",
    "print(f\"a = \\n{a}\")\n",
    "\n",
    "#access 5 consecutive elements (start:stop:step)\n",
    "print(\"a[0, 2:7:1] = \", a[0, 2:7:1], \",  a[0, 2:7:1].shape =\", a[0, 2:7:1].shape, \"a 1-D array\")\n",
    "\n",
    "#access 5 consecutive elements (start:stop:step) in two rows\n",
    "print(\"a[:, 2:7:1] = \\n\", a[:, 2:7:1], \",  a[:, 2:7:1].shape =\", a[:, 2:7:1].shape, \"a 2-D array\")\n",
    "\n",
    "# access all elements\n",
    "print(\"a[:,:] = \\n\", a[:,:], \",  a[:,:].shape =\", a[:,:].shape)\n",
    "\n",
    "# access all elements in one row (very common usage)\n",
    "print(\"a[1,:] = \", a[1,:], \",  a[1,:].shape =\", a[1,:].shape, \"a 1-D array\")\n",
    "# same as\n",
    "print(\"a[1]   = \", a[1],   \",  a[1].shape   =\", a[1].shape, \"a 1-D array\")\n"
   ]
  },
  {
   "cell_type": "code",
   "execution_count": null,
   "id": "2292f342",
   "metadata": {
    "papermill": {
     "duration": 0.006404,
     "end_time": "2024-06-28T07:24:06.553945",
     "exception": false,
     "start_time": "2024-06-28T07:24:06.547541",
     "status": "completed"
    },
    "tags": []
   },
   "outputs": [],
   "source": []
  },
  {
   "cell_type": "code",
   "execution_count": null,
   "id": "d00d919d",
   "metadata": {
    "papermill": {
     "duration": 0.006343,
     "end_time": "2024-06-28T07:24:06.566854",
     "exception": false,
     "start_time": "2024-06-28T07:24:06.560511",
     "status": "completed"
    },
    "tags": []
   },
   "outputs": [],
   "source": []
  },
  {
   "cell_type": "code",
   "execution_count": null,
   "id": "9b74fdb0",
   "metadata": {
    "papermill": {
     "duration": 0.006668,
     "end_time": "2024-06-28T07:24:06.580182",
     "exception": false,
     "start_time": "2024-06-28T07:24:06.573514",
     "status": "completed"
    },
    "tags": []
   },
   "outputs": [],
   "source": []
  }
 ],
 "metadata": {
  "kaggle": {
   "accelerator": "none",
   "dataSources": [],
   "dockerImageVersionId": 30732,
   "isGpuEnabled": false,
   "isInternetEnabled": false,
   "language": "python",
   "sourceType": "notebook"
  },
  "kernelspec": {
   "display_name": "Python 3",
   "language": "python",
   "name": "python3"
  },
  "language_info": {
   "codemirror_mode": {
    "name": "ipython",
    "version": 3
   },
   "file_extension": ".py",
   "mimetype": "text/x-python",
   "name": "python",
   "nbconvert_exporter": "python",
   "pygments_lexer": "ipython3",
   "version": "3.10.13"
  },
  "papermill": {
   "default_parameters": {},
   "duration": 7.372717,
   "end_time": "2024-06-28T07:24:06.907195",
   "environment_variables": {},
   "exception": null,
   "input_path": "__notebook__.ipynb",
   "output_path": "__notebook__.ipynb",
   "parameters": {},
   "start_time": "2024-06-28T07:23:59.534478",
   "version": "2.5.0"
  }
 },
 "nbformat": 4,
 "nbformat_minor": 5
}
