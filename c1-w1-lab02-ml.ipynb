{
 "cells": [
  {
   "cell_type": "code",
   "execution_count": 1,
   "id": "cb1cb952",
   "metadata": {
    "_cell_guid": "b1076dfc-b9ad-4769-8c92-a6c4dae69d19",
    "_uuid": "8f2839f25d086af736a60e9eeb907d3b93b6e0e5",
    "execution": {
     "iopub.execute_input": "2024-06-19T08:01:03.584557Z",
     "iopub.status.busy": "2024-06-19T08:01:03.583557Z",
     "iopub.status.idle": "2024-06-19T08:01:03.596512Z",
     "shell.execute_reply": "2024-06-19T08:01:03.595532Z"
    },
    "papermill": {
     "duration": 0.02244,
     "end_time": "2024-06-19T08:01:03.598879",
     "exception": false,
     "start_time": "2024-06-19T08:01:03.576439",
     "status": "completed"
    },
    "tags": []
   },
   "outputs": [],
   "source": [
    "import numpy as np\n",
    "import matplotlib.pyplot as plt\n"
   ]
  },
  {
   "cell_type": "code",
   "execution_count": 2,
   "id": "31d08fd7",
   "metadata": {
    "execution": {
     "iopub.execute_input": "2024-06-19T08:01:03.610826Z",
     "iopub.status.busy": "2024-06-19T08:01:03.610205Z",
     "iopub.status.idle": "2024-06-19T08:01:03.618608Z",
     "shell.execute_reply": "2024-06-19T08:01:03.617591Z"
    },
    "papermill": {
     "duration": 0.017452,
     "end_time": "2024-06-19T08:01:03.621529",
     "exception": false,
     "start_time": "2024-06-19T08:01:03.604077",
     "status": "completed"
    },
    "tags": []
   },
   "outputs": [
    {
     "name": "stdout",
     "output_type": "stream",
     "text": [
      "x_train = [1. 2.]\n",
      "y_train = [300. 500.]\n"
     ]
    }
   ],
   "source": [
    "# x_train is the input variable (size in 1000 square feet)\n",
    "# y_train is the target (price in 1000s of dollars)\n",
    "x_train = np.array([1.0,2.0])\n",
    "y_train = np.array([300.0,500])\n",
    "print(f\"x_train = {x_train}\")\n",
    "print(f\"y_train = {y_train}\")"
   ]
  },
  {
   "cell_type": "code",
   "execution_count": 3,
   "id": "316b65b2",
   "metadata": {
    "execution": {
     "iopub.execute_input": "2024-06-19T08:01:03.634540Z",
     "iopub.status.busy": "2024-06-19T08:01:03.634085Z",
     "iopub.status.idle": "2024-06-19T08:01:03.643831Z",
     "shell.execute_reply": "2024-06-19T08:01:03.642687Z"
    },
    "papermill": {
     "duration": 0.019619,
     "end_time": "2024-06-19T08:01:03.646125",
     "exception": false,
     "start_time": "2024-06-19T08:01:03.626506",
     "status": "completed"
    },
    "tags": []
   },
   "outputs": [
    {
     "name": "stdout",
     "output_type": "stream",
     "text": [
      "x_train.shape:= (2,)\n"
     ]
    },
    {
     "data": {
      "text/plain": [
       "2"
      ]
     },
     "execution_count": 3,
     "metadata": {},
     "output_type": "execute_result"
    }
   ],
   "source": [
    "# m is the number of training examples\n",
    "print (f\"x_train.shape:= {x_train.shape}\")\n",
    "m = x_train.shape[0]\n",
    "m"
   ]
  },
  {
   "cell_type": "code",
   "execution_count": 4,
   "id": "daf7662f",
   "metadata": {
    "execution": {
     "iopub.execute_input": "2024-06-19T08:01:03.658546Z",
     "iopub.status.busy": "2024-06-19T08:01:03.657669Z",
     "iopub.status.idle": "2024-06-19T08:01:03.663932Z",
     "shell.execute_reply": "2024-06-19T08:01:03.662561Z"
    },
    "papermill": {
     "duration": 0.015136,
     "end_time": "2024-06-19T08:01:03.666340",
     "exception": false,
     "start_time": "2024-06-19T08:01:03.651204",
     "status": "completed"
    },
    "tags": []
   },
   "outputs": [
    {
     "name": "stdout",
     "output_type": "stream",
     "text": [
      "Number of training examples is: 2\n"
     ]
    }
   ],
   "source": [
    "# m is the number of training examples\n",
    "m = len(x_train)\n",
    "print(f\"Number of training examples is: {m}\")"
   ]
  },
  {
   "cell_type": "code",
   "execution_count": 5,
   "id": "19fc4eb6",
   "metadata": {
    "execution": {
     "iopub.execute_input": "2024-06-19T08:01:03.678787Z",
     "iopub.status.busy": "2024-06-19T08:01:03.678033Z",
     "iopub.status.idle": "2024-06-19T08:01:03.683900Z",
     "shell.execute_reply": "2024-06-19T08:01:03.682887Z"
    },
    "papermill": {
     "duration": 0.01464,
     "end_time": "2024-06-19T08:01:03.686197",
     "exception": false,
     "start_time": "2024-06-19T08:01:03.671557",
     "status": "completed"
    },
    "tags": []
   },
   "outputs": [
    {
     "name": "stdout",
     "output_type": "stream",
     "text": [
      "(x^(1),y^(1)) = (2.0,500.0)\n"
     ]
    }
   ],
   "source": [
    "i = 1 # Change this to 1 to see (x^1, y^1)\n",
    "x_i = x_train[i]\n",
    "y_i = y_train[i]\n",
    "print(f\"(x^({i}),y^({i})) = ({x_i},{y_i})\")"
   ]
  },
  {
   "cell_type": "code",
   "execution_count": 6,
   "id": "bda49486",
   "metadata": {
    "execution": {
     "iopub.execute_input": "2024-06-19T08:01:03.698671Z",
     "iopub.status.busy": "2024-06-19T08:01:03.697988Z",
     "iopub.status.idle": "2024-06-19T08:01:04.031612Z",
     "shell.execute_reply": "2024-06-19T08:01:04.030643Z"
    },
    "papermill": {
     "duration": 0.343671,
     "end_time": "2024-06-19T08:01:04.035122",
     "exception": false,
     "start_time": "2024-06-19T08:01:03.691451",
     "status": "completed"
    },
    "tags": []
   },
   "outputs": [
    {
     "data": {
      "image/png": "[encoded data removed]",
      "text/plain": [
       "<Figure size 640x480 with 1 Axes>"
      ]
     },
     "metadata": {},
     "output_type": "display_data"
    }
   ],
   "source": [
    "# Plot the data points\n",
    "plt.scatter(x_train,y_train,marker='o',c='r')\n",
    "plt.title(\"House Pricing\")\n",
    "plt.ylabel('price')\n",
    "plt.xlabel('size')\n",
    "plt.show()"
   ]
  },
  {
   "cell_type": "code",
   "execution_count": 7,
   "id": "3dd357a4",
   "metadata": {
    "execution": {
     "iopub.execute_input": "2024-06-19T08:01:04.049923Z",
     "iopub.status.busy": "2024-06-19T08:01:04.049061Z",
     "iopub.status.idle": "2024-06-19T08:01:04.053773Z",
     "shell.execute_reply": "2024-06-19T08:01:04.052800Z"
    },
    "papermill": {
     "duration": 0.014144,
     "end_time": "2024-06-19T08:01:04.056062",
     "exception": false,
     "start_time": "2024-06-19T08:01:04.041918",
     "status": "completed"
    },
    "tags": []
   },
   "outputs": [],
   "source": [
    "w= 200\n",
    "b=100\n"
   ]
  },
  {
   "cell_type": "code",
   "execution_count": 8,
   "id": "de0b4c7b",
   "metadata": {
    "execution": {
     "iopub.execute_input": "2024-06-19T08:01:04.068841Z",
     "iopub.status.busy": "2024-06-19T08:01:04.068150Z",
     "iopub.status.idle": "2024-06-19T08:01:04.073830Z",
     "shell.execute_reply": "2024-06-19T08:01:04.072833Z"
    },
    "papermill": {
     "duration": 0.014451,
     "end_time": "2024-06-19T08:01:04.076011",
     "exception": false,
     "start_time": "2024-06-19T08:01:04.061560",
     "status": "completed"
    },
    "tags": []
   },
   "outputs": [],
   "source": [
    "def model_op(x,w,b):\n",
    "    m = x.shape[0]\n",
    "    f_wb = np.zeros(m)\n",
    "    for i in range(m):\n",
    "        f_wb[i] = w*x[i] + b\n",
    "    return f_wb   "
   ]
  },
  {
   "cell_type": "code",
   "execution_count": 9,
   "id": "9cb26a87",
   "metadata": {
    "execution": {
     "iopub.execute_input": "2024-06-19T08:01:04.088448Z",
     "iopub.status.busy": "2024-06-19T08:01:04.088086Z",
     "iopub.status.idle": "2024-06-19T08:01:04.094850Z",
     "shell.execute_reply": "2024-06-19T08:01:04.093947Z"
    },
    "papermill": {
     "duration": 0.015502,
     "end_time": "2024-06-19T08:01:04.096997",
     "exception": false,
     "start_time": "2024-06-19T08:01:04.081495",
     "status": "completed"
    },
    "tags": []
   },
   "outputs": [
    {
     "data": {
      "text/plain": [
       "array([300., 500.])"
      ]
     },
     "execution_count": 9,
     "metadata": {},
     "output_type": "execute_result"
    }
   ],
   "source": [
    "op = model_op(x_train,w,b)\n",
    "op"
   ]
  },
  {
   "cell_type": "code",
   "execution_count": 10,
   "id": "c8c0e14c",
   "metadata": {
    "execution": {
     "iopub.execute_input": "2024-06-19T08:01:04.109989Z",
     "iopub.status.busy": "2024-06-19T08:01:04.109601Z",
     "iopub.status.idle": "2024-06-19T08:01:04.443471Z",
     "shell.execute_reply": "2024-06-19T08:01:04.442401Z"
    },
    "papermill": {
     "duration": 0.343876,
     "end_time": "2024-06-19T08:01:04.446540",
     "exception": false,
     "start_time": "2024-06-19T08:01:04.102664",
     "status": "completed"
    },
    "tags": []
   },
   "outputs": [
    {
     "data": {
      "image/png": "[encoded data removed]",
      "text/plain": [
       "<Figure size 640x480 with 1 Axes>"
      ]
     },
     "metadata": {},
     "output_type": "display_data"
    }
   ],
   "source": [
    "# Plot our model prediction\n",
    "plt.plot(x_train, op, c='b',label='Our Prediction')\n",
    "\n",
    "# Plot the data points\n",
    "plt.scatter(x_train, y_train, marker='x', c='r',label='Actual Values')\n",
    "\n",
    "# Set the title\n",
    "plt.title(\"Housing Prices\")\n",
    "# Set the y-axis label\n",
    "plt.ylabel('Price (in 1000s of dollars)')\n",
    "# Set the x-axis label\n",
    "plt.xlabel('Size (1000 sqft)')\n",
    "plt.legend()\n",
    "plt.show()"
   ]
  },
  {
   "cell_type": "code",
   "execution_count": 11,
   "id": "3c9114cd",
   "metadata": {
    "execution": {
     "iopub.execute_input": "2024-06-19T08:01:04.462127Z",
     "iopub.status.busy": "2024-06-19T08:01:04.461296Z",
     "iopub.status.idle": "2024-06-19T08:01:04.468873Z",
     "shell.execute_reply": "2024-06-19T08:01:04.467905Z"
    },
    "papermill": {
     "duration": 0.017711,
     "end_time": "2024-06-19T08:01:04.471099",
     "exception": false,
     "start_time": "2024-06-19T08:01:04.453388",
     "status": "completed"
    },
    "tags": []
   },
   "outputs": [
    {
     "data": {
      "text/plain": [
       "array([340.])"
      ]
     },
     "execution_count": 11,
     "metadata": {},
     "output_type": "execute_result"
    }
   ],
   "source": [
    "x_i = np.array([1.2])\n",
    "op_1 = model_op(x_i,w,b)\n",
    "op_1"
   ]
  },
  {
   "cell_type": "code",
   "execution_count": null,
   "id": "4aef3853",
   "metadata": {
    "papermill": {
     "duration": 0.006385,
     "end_time": "2024-06-19T08:01:04.484087",
     "exception": false,
     "start_time": "2024-06-19T08:01:04.477702",
     "status": "completed"
    },
    "tags": []
   },
   "outputs": [],
   "source": []
  }
 ],
 "metadata": {
  "kaggle": {
   "accelerator": "none",
   "dataSources": [],
   "dockerImageVersionId": 30732,
   "isGpuEnabled": false,
   "isInternetEnabled": false,
   "language": "python",
   "sourceType": "notebook"
  },
  "kernelspec": {
   "display_name": "Python 3",
   "language": "python",
   "name": "python3"
  },
  "language_info": {
   "codemirror_mode": {
    "name": "ipython",
    "version": 3
   },
   "file_extension": ".py",
   "mimetype": "text/x-python",
   "name": "python",
   "nbconvert_exporter": "python",
   "pygments_lexer": "ipython3",
   "version": "3.10.13"
  },
  "papermill": {
   "default_parameters": {},
   "duration": 4.169906,
   "end_time": "2024-06-19T08:01:04.809798",
   "environment_variables": {},
   "exception": null,
   "input_path": "__notebook__.ipynb",
   "output_path": "__notebook__.ipynb",
   "parameters": {},
   "start_time": "2024-06-19T08:01:00.639892",
   "version": "2.5.0"
  }
 },
 "nbformat": 4,
 "nbformat_minor": 5
}
